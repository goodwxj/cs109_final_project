{
 "cells": [
  {
   "cell_type": "markdown",
   "metadata": {},
   "source": [
    "# CS109 Final Project: Chicago Crime Crush\n",
    "\n",
    "Team: Longwooders\n",
    "Team members: Xiaoji Wu, Sizun Jiang, Ximei Sun, Jason Qian\n",
    "\n",
    "## Introduction\n",
    "\n",
    "Crime has been one of the major issues for many US cities. To solve and prevent crimes, we must first understand when, where, how and why crimes take place. In this project, we explored the pattern of crime using the historical crime record of Chicago. In the Chicago crime dataset, crimes happening between 2001 and 2015 are documented in details with time, crime type, location, coordinates and other information. We further integrate this dataset with other information that are potentially correlated with crime pattern, for example socioeconomic status and weather.\n",
    "\n",
    "Using the information we obtained, we performed exploratory data analysis and revealed several interesting patterns of crime. We then utilized the information to perform classfication of crime."
   ]
  },
  {
   "cell_type": "code",
   "execution_count": null,
   "metadata": {
    "collapsed": true
   },
   "outputs": [],
   "source": []
  }
 ],
 "metadata": {
  "kernelspec": {
   "display_name": "Python 2",
   "language": "python",
   "name": "python2"
  },
  "language_info": {
   "codemirror_mode": {
    "name": "ipython",
    "version": 2
   },
   "file_extension": ".py",
   "mimetype": "text/x-python",
   "name": "python",
   "nbconvert_exporter": "python",
   "pygments_lexer": "ipython2",
   "version": "2.7.10"
  }
 },
 "nbformat": 4,
 "nbformat_minor": 0
}
