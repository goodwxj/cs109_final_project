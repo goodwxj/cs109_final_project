{
 "cells": [
  {
   "cell_type": "markdown",
   "metadata": {},
   "source": [
    "# CS109 Final Project: Chicago Crime Crush\n",
    "\n",
    "Team: Longwooders\n",
    "Team members: Xiaoji Wu, Sizun Jiang, Ximei Sun, Jason Qian\n",
    "Github IDs: goodwxj, djstar, jqian01, ximeisun\n",
    "\n",
    "## Overview and motivations\n",
    "\n",
    "Every day, hundreds and thousands of crimes happen in major cities of the United States. Different areas of a city, different dates and different times of a day may tend to have different types of crime. A successful classification of crime type given a time, a location and other relevant information will provide useful information for both the citizens and law enforcement agencies. For citizens, knowing that what type of crime can happen will help them be prepared. For law enforcement agencies, the information will help them allocate the resources better.\n",
    "\n",
    "In this project, we used the historical crime record of Chicago. In the Chicago crime dataset, crimes happening between 2001 and 2015 are documented in details with time, crime type, location, coordinates and other information. We further integrate this dataset with other information that are potentially correlated with crime pattern, for example socioeconomic status and weather.\n",
    "\n",
    "Using the information we obtained, we first performed exploratory data analysis and revealed several interesting patterns of crime. Based on this, we then built a model trying to answer an imporant question: given time and location of a crime (and other information derived from time and location, for example weather and socioeconomic status of the neighborhood), can we determine what type of crime it is? This model is a classification model, but it may also provide useful information for potential users. For example, knowing that a specific type of crime can happen to him or her given time and location, a user of the model can prepare himself or herself for that type of crime better. Similarly, this classification can also help law enforcement to better allocate their resources.\n",
    "\n",
    "During our modeling, we first tried binary classification to determine whether a crime is going to be a severe type of crime or a less severe type of crime, and the result suggests that our model can reach an accuracy around 63%, beating the base line model (predicting everything as non-severe) which has an accuracy around 54%. To go one step further, we move from binary classification to multiclass classification, trying to determine whether we can accurately classify a crime record into one of the four major types of crime: battery, theft, criminal damage and narcotics. Our multiclass model reaches a classification accuracy around 50% and beats the base line model (around 34% accuracy).\n",
    "\n",
    "Our result demonstrated the validity of performing crime type classification by combining multiple types of information. Our study also provided insights into the pattern of crime.\n",
    "\n",
    "## Related work\n",
    "There are other analysis analyzing crime data. For example, a competition on Kaggle aims at classsifying crime type of San Francisco using the historical crime record provided. Inspired by the Kaggle competition, we decided to do something similar but using the dataset of Chicago, which contains more interesting information (for example the type of crime scene).\n",
    "\n",
    "## Initial questions\n",
    "\n",
    "To classifiy crime type based on crime time and location, we need to make sure that time, location and other relevant information we used (weather and socioeconomic data) is indeed correlated with crime type. Therefore, the first question we ask is whether any of our predictors (features) is indeed correlated with crime types. Using exploratory data analysis (notebook 2), we confirmed that some of our features will be good for crime classsification.\n",
    "\n",
    "The second question we asked is that using the features in our dataset, can we really build a successful classification model? To answer this question, we start by performing binary classification of crime into severe or not severe, and the model works well. We then go one step further to check whether we can classify each crime record into specific types of crime. Please see notebook 3 for details.\n",
    "\n",
    "## Detailed work flow\n",
    "\n",
    "### Part I  Data cleanup\n",
    "In this part, we clean up the crime dataset obtained from the city of Chicago data portal. We also integrate the crime data with other datasets, for example socioeconomic status (from Chicago data portal) and weather (from National Centers for environmental information). Please see notebook 1 for details.\n",
    "\n",
    "https://github.com/goodwxj/cs109_final_project/blob/master/Notebook_1_data_cleanup.ipynb\n",
    "\n",
    "### Part II: Exploratory data analysis\n",
    "In this part, we visualize the data using different ways. We also created interactive crime maps (based on Google map). Please see notebook 2 for details.\n",
    "\n",
    "https://github.com/goodwxj/cs109_final_project/blob/master/Notebook_2_visualization.ipynb\n",
    "\n",
    "### Part III: modeling\n",
    "In this part, we build two types of models, binary classification models for predicting whether a crime is severe or not, and multiclass classification models to determine the exact type of crime. Please see notebook 3 for details.\n",
    "\n",
    "https://github.com/goodwxj/cs109_final_project/blob/master/Notebook_3_modeling.ipynb\n",
    "\n",
    "## Summary and conclusion (Final analysis)\n",
    "\n",
    "In our exploratory data analysis, we revealed that several features, for example location of the crime scence and the time of the crime, are associated with the type of crime, providing the basis for out modeling later. For example, crimes happening in department store are more likely to be thefts. Crimes happening at late hours are proned to be violent in nature. One single feature may not be sufficient for determining the type of crime, but a combination of various features can be powerful. This is indeed the case in our modeling.\n",
    "\n",
    "In our modeling, we started with binary classification to determine whether a crime is going to be a severe crime or not, and the result suggests that our best models (logistic regression, Ada Boost, decision tree and random forest) can reach an accuracy around 63%, beating the base line model (predicting everything as non-severe) for 8%. The advantage of our model over the base line model is not huge, because severe or not is a definition that is not 100% clear cut. However, our first try has domonstrated that integrating different information, we can do classsificatoin of crimes. Additionaly, we also revealed features that contribute most to determining whether a crime is severe or not. With some modifications, we can potentially do other binary classsfication in a similar manner, for example determining whether a crime involves weapons or not.\n",
    "\n",
    "In addition to binary classificaiton, we also tried multiclass classification to determine whether we can accurately classify a crime record into one of the four major types of crime: battery, theft, criminal damage and narcotics. The result showed that our best multiclass model (logistic regression) reaches a classification accuracy around 50% and beats the base line model (around 34% accuracy). We can also report our classfication in a different way by reporting the two most possible types of crime instead of giving a definitive answer. If we use this criteria, the accuracy of our model can reach closed to 80% and beat the base line model for around 13%. Again, we demonstrated the validity of utilizing time, location and relevant information to predict crime type.\n",
    "\n",
    "As for future work, in order to boost the classsification accuracy, it will be necessary to incorporate other information. For example, the police department may focus on solving a specific type of crime during a specific period of time, which may reduce the occurance of that type of crime. Additionally, some events and the outcomes of the events may be associated with some crime types, for example basketball games, baseball games and elections. It will be interesting to see whether these other features can help the classification.\n",
    "\n",
    "## Presentation\n",
    "\n",
    "We summarized our results and select the most representative figures for final presentation on our website:\n",
    "\n",
    "https://sites.google.com/a/g.harvard.edu/longwooders/home\n",
    "\n",
    "## Data source and reference\n",
    "1. Crime data: https://data.cityofchicago.org/Public-Safety/Crimes-2001-to-present/ijzp-q8t2\n",
    "2. Socioeconomic data: https://data.cityofchicago.org/Health-Human-Services/hardship-index/792q-4jtu\n",
    "3. Weather data: https://www.ncdc.noaa.gov/data-access\n",
    "4. Map information: Google map.\n",
    "5. Website: Google site."
   ]
  },
  {
   "cell_type": "code",
   "execution_count": null,
   "metadata": {
    "collapsed": true
   },
   "outputs": [],
   "source": []
  }
 ],
 "metadata": {
  "kernelspec": {
   "display_name": "Python 2",
   "language": "python",
   "name": "python2"
  },
  "language_info": {
   "codemirror_mode": {
    "name": "ipython",
    "version": 2
   },
   "file_extension": ".py",
   "mimetype": "text/x-python",
   "name": "python",
   "nbconvert_exporter": "python",
   "pygments_lexer": "ipython2",
   "version": "2.7.10"
  }
 },
 "nbformat": 4,
 "nbformat_minor": 0
}
