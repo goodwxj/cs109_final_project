{
 "cells": [
  {
   "cell_type": "markdown",
   "metadata": {},
   "source": [
    "# CS109 Final Project: Chicago Crime Crush\n",
    "\n",
    "Team: Longwooders\n",
    "Team members: Xiaoji Wu, Sizun Jiang, Ximei Sun, Jason Qian\n",
    "Github IDs: goodwxj, djstar, jqian01, ximeisun\n",
    "\n",
    "## Abstract\n",
    "\n",
    "For many US cities, crime has been one of the major issues. To solve and prevent crimes, we must first understand when, where, how and why crimes happen. In this project, we explored the pattern of crime using the historical crime record of Chicago. In the Chicago crime dataset, crimes happening between 2001 and 2015 are documented in details with time, crime type, location, coordinates and other information. We further integrate this dataset with other information that are potentially correlated with crime pattern, for example socioeconomic status and weather.\n",
    "\n",
    "Using the information we obtained, we first performed exploratory data analysis and revealed several interesting patterns of crime. Based on this, we then built a model trying to answer an imporant question: given time and location of a crime (and other information derived from time and location, for example weather and socioeconomic status of the neighborhood), can we determine what type of crime it is? This model is a classification model, but it may also provide useful information for potential users. For example, knowing that a specific type of crime can happen to him or her given time and location, a user of the model can prepare himself or herself for that type of crime better. Similarly, this classification can also help law enforcement to better allocate their resources.\n",
    "\n",
    "During our modeling, we first tried binary classification to determine whether a crime is going to be a severe type of crime or a less severe type of crime, and the result suggests that our model can reach an accuracy around 63%, beating the base line model (predicting everything as non-severe) which has an accuracy around 54%. To go one step further, we move from binary classification to multiclass classification, trying to determine whether we can accurately classify a crime record into one of the four major types of crime: battery, theft, criminal damage and narcotics. Our multiclass model reaches a classification accuracy around 50% and beats the base line model (around 34% accuracy).\n",
    "\n",
    "Our result demonstrated the validity of performing crime type classification by combining multiple types of information. Our study also provided insights into   \n",
    "\n",
    "## Process\n",
    "\n",
    "### Part I  Data cleanup\n",
    "In this part, we clean up the crime dataset obtained from the city of Chicago data portal. We also integrate the crime data with other datasets, for example socioeconomic status (from Chicago data portal) and weather (from National Centers for environmental information). Please see notebook 1 for details.\n",
    "https://github.com/goodwxj/cs109_final_project/blob/master/Notebook_1_data_cleanup.ipynb\n",
    "\n",
    "### Part II\n",
    "In this part, we visualize the data using different ways. We also created interactive crime maps (based on Google map). Please see notebook 2 for details.\n",
    "https://github.com/goodwxj/cs109_final_project/blob/master/Notebook_2_visualization.ipynb\n",
    "\n",
    "\n",
    "### Part III\n",
    "In this part, we build two types of models, binary classification models for predicting whether a crime is severe or not, and multiclass classification models to determine the exact type of crime. Please see notebook 3 for details.\n",
    "https://github.com/goodwxj/cs109_final_project/blob/master/Notebook_3_modeling.ipynb\n",
    "\n",
    "## Data source and reference\n",
    "1. Crime data: https://data.cityofchicago.org/Public-Safety/Crimes-2001-to-present/ijzp-q8t2\n",
    "2. Socioeconomic data: https://data.cityofchicago.org/Health-Human-Services/hardship-index/792q-4jtu\n",
    "3. Weather data: https://www.ncdc.noaa.gov/data-access\n",
    "4. Map information: Google map.\n",
    "5. Website: Google site."
   ]
  }
 ],
 "metadata": {
  "kernelspec": {
   "display_name": "Python 2",
   "language": "python",
   "name": "python2"
  },
  "language_info": {
   "codemirror_mode": {
    "name": "ipython",
    "version": 2
   },
   "file_extension": ".py",
   "mimetype": "text/x-python",
   "name": "python",
   "nbconvert_exporter": "python",
   "pygments_lexer": "ipython2",
   "version": "2.7.10"
  }
 },
 "nbformat": 4,
 "nbformat_minor": 0
}
